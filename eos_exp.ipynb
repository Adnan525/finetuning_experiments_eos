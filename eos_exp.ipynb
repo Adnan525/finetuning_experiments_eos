{
 "cells": [
  {
   "cell_type": "code",
   "execution_count": 1,
   "id": "e26b4009-6586-4235-afc3-f8993482a0f9",
   "metadata": {},
   "outputs": [],
   "source": [
    "import pandas as pd\n",
    "from dotenv import load_dotenv\n",
    "import os\n",
    "import numpy as np\n",
    "\n",
    "import torch\n",
    "import transformers\n",
    "from huggingface_hub import login\n",
    "from transformers import (\n",
    "    AutoModelForCausalLM,\n",
    "    AutoTokenizer,\n",
    "    BitsAndBytesConfig,\n",
    "    pipeline,\n",
    "    AutoConfig\n",
    ")\n",
    "\n",
    "from util import check_eos_occurrence"
   ]
  },
  {
   "cell_type": "code",
   "execution_count": 2,
   "id": "fcea4982-afae-426b-a1df-b37c18a9d478",
   "metadata": {},
   "outputs": [
    {
     "name": "stdout",
     "output_type": "stream",
     "text": [
      "The token has not been saved to the git credentials helper. Pass `add_to_git_credential=True` in this function directly or `--add-to-git-credential` if using via `huggingface-cli` if you want to set the git credential as well.\n",
      "Token is valid (permission: write).\n",
      "Your token has been saved to /home/s448780/.cache/huggingface/token\n",
      "Login successful\n"
     ]
    }
   ],
   "source": [
    "load_dotenv(\".env\")\n",
    "hf_token = os.getenv(\"hf_token\")\n",
    "login(hf_token)"
   ]
  },
  {
   "cell_type": "markdown",
   "id": "24a89eef-2427-4838-801e-497572ab51d7",
   "metadata": {},
   "source": [
    "# target model variable"
   ]
  },
  {
   "cell_type": "code",
   "execution_count": 11,
   "id": "2a0c8885-da62-4154-a432-db455dafe49c",
   "metadata": {},
   "outputs": [],
   "source": [
    "# model_id = \"meta-llama/Meta-Llama-3.1-8B-Instruct\"\n",
    "model_id = \"meta-llama/Meta-Llama-3-8B-Instruct\""
   ]
  },
  {
   "cell_type": "markdown",
   "id": "a39b8c9c-8428-49cd-9994-758fabb9f968",
   "metadata": {},
   "source": [
    "# quantization"
   ]
  },
  {
   "cell_type": "code",
   "execution_count": 12,
   "id": "9e433057-0bc7-489e-b24e-a0a7cd1d9c15",
   "metadata": {},
   "outputs": [],
   "source": [
    "bnb_config = BitsAndBytesConfig(\n",
    "    load_in_4bit=True,\n",
    "    bnb_4bit_use_double_quant=True,\n",
    "    bnb_4bit_quant_type=\"nf4\",\n",
    "    bnb_4bit_compute_dtype=torch.bfloat16\n",
    ")"
   ]
  },
  {
   "cell_type": "markdown",
   "id": "e2b45e63-91fd-4132-ab88-43ae7d26b960",
   "metadata": {},
   "source": [
    "# loading the model"
   ]
  },
  {
   "cell_type": "code",
   "execution_count": 13,
   "id": "c488c236-cad4-4ff3-863a-c7707c6641f3",
   "metadata": {},
   "outputs": [
    {
     "data": {
      "application/vnd.jupyter.widget-view+json": {
       "model_id": "57588c5025a84cc3be0e7a0d9b422cab",
       "version_major": 2,
       "version_minor": 0
      },
      "text/plain": [
       "Loading checkpoint shards:   0%|          | 0/4 [00:00<?, ?it/s]"
      ]
     },
     "metadata": {},
     "output_type": "display_data"
    }
   ],
   "source": [
    "model = AutoModelForCausalLM.from_pretrained(\n",
    "    model_id, \n",
    "    quantization_config=bnb_config, \n",
    "    use_cache=False, \n",
    "    device_map=\"auto\"\n",
    ")"
   ]
  },
  {
   "cell_type": "markdown",
   "id": "f21ed968-de1a-424b-a1a9-4403e5a83687",
   "metadata": {},
   "source": [
    "# tokenizer"
   ]
  },
  {
   "cell_type": "code",
   "execution_count": 14,
   "id": "e9659280-67c9-429b-b8c3-f78f679a8047",
   "metadata": {},
   "outputs": [],
   "source": [
    "tokenizer = AutoTokenizer.from_pretrained(model_id,\n",
    "                                          add_bos_token = True, \n",
    "                                          padding_side = \"left\")"
   ]
  },
  {
   "cell_type": "markdown",
   "id": "9de083d9-6f67-461d-80da-b57fd4af2922",
   "metadata": {},
   "source": [
    "# ------------ LLAMA 3.1 8B ------------"
   ]
  },
  {
   "cell_type": "code",
   "execution_count": 7,
   "id": "880e406b-6c59-47b6-a94b-e175397f65fc",
   "metadata": {},
   "outputs": [
    {
     "data": {
      "text/plain": [
       "LlamaConfig {\n",
       "  \"_name_or_path\": \"meta-llama/Meta-Llama-3.1-8B-Instruct\",\n",
       "  \"architectures\": [\n",
       "    \"LlamaForCausalLM\"\n",
       "  ],\n",
       "  \"attention_bias\": false,\n",
       "  \"attention_dropout\": 0.0,\n",
       "  \"bos_token_id\": 128000,\n",
       "  \"eos_token_id\": [\n",
       "    128001,\n",
       "    128008,\n",
       "    128009\n",
       "  ],\n",
       "  \"hidden_act\": \"silu\",\n",
       "  \"hidden_size\": 4096,\n",
       "  \"initializer_range\": 0.02,\n",
       "  \"intermediate_size\": 14336,\n",
       "  \"max_position_embeddings\": 131072,\n",
       "  \"mlp_bias\": false,\n",
       "  \"model_type\": \"llama\",\n",
       "  \"num_attention_heads\": 32,\n",
       "  \"num_hidden_layers\": 32,\n",
       "  \"num_key_value_heads\": 8,\n",
       "  \"pretraining_tp\": 1,\n",
       "  \"rms_norm_eps\": 1e-05,\n",
       "  \"rope_scaling\": {\n",
       "    \"factor\": 8.0,\n",
       "    \"high_freq_factor\": 4.0,\n",
       "    \"low_freq_factor\": 1.0,\n",
       "    \"original_max_position_embeddings\": 8192,\n",
       "    \"rope_type\": \"llama3\"\n",
       "  },\n",
       "  \"rope_theta\": 500000.0,\n",
       "  \"tie_word_embeddings\": false,\n",
       "  \"torch_dtype\": \"bfloat16\",\n",
       "  \"transformers_version\": \"4.44.0\",\n",
       "  \"use_cache\": true,\n",
       "  \"vocab_size\": 128256\n",
       "}"
      ]
     },
     "execution_count": 7,
     "metadata": {},
     "output_type": "execute_result"
    }
   ],
   "source": [
    "AutoConfig.from_pretrained(model_id)"
   ]
  },
  {
   "cell_type": "code",
   "execution_count": 8,
   "id": "b65cc4ab-f11d-4449-ab27-ffc7d8f7445f",
   "metadata": {},
   "outputs": [
    {
     "data": {
      "text/plain": [
       "LlamaForCausalLM(\n",
       "  (model): LlamaModel(\n",
       "    (embed_tokens): Embedding(128256, 4096)\n",
       "    (layers): ModuleList(\n",
       "      (0-31): 32 x LlamaDecoderLayer(\n",
       "        (self_attn): LlamaSdpaAttention(\n",
       "          (q_proj): Linear4bit(in_features=4096, out_features=4096, bias=False)\n",
       "          (k_proj): Linear4bit(in_features=4096, out_features=1024, bias=False)\n",
       "          (v_proj): Linear4bit(in_features=4096, out_features=1024, bias=False)\n",
       "          (o_proj): Linear4bit(in_features=4096, out_features=4096, bias=False)\n",
       "          (rotary_emb): LlamaRotaryEmbedding()\n",
       "        )\n",
       "        (mlp): LlamaMLP(\n",
       "          (gate_proj): Linear4bit(in_features=4096, out_features=14336, bias=False)\n",
       "          (up_proj): Linear4bit(in_features=4096, out_features=14336, bias=False)\n",
       "          (down_proj): Linear4bit(in_features=14336, out_features=4096, bias=False)\n",
       "          (act_fn): SiLU()\n",
       "        )\n",
       "        (input_layernorm): LlamaRMSNorm((4096,), eps=1e-05)\n",
       "        (post_attention_layernorm): LlamaRMSNorm((4096,), eps=1e-05)\n",
       "      )\n",
       "    )\n",
       "    (norm): LlamaRMSNorm((4096,), eps=1e-05)\n",
       "    (rotary_emb): LlamaRotaryEmbedding()\n",
       "  )\n",
       "  (lm_head): Linear(in_features=4096, out_features=128256, bias=False)\n",
       ")"
      ]
     },
     "execution_count": 8,
     "metadata": {},
     "output_type": "execute_result"
    }
   ],
   "source": [
    "model"
   ]
  },
  {
   "cell_type": "markdown",
   "id": "a6e47826-7d0b-425d-b2d8-336a47d57a8b",
   "metadata": {},
   "source": [
    "### eos token"
   ]
  },
  {
   "cell_type": "code",
   "execution_count": 9,
   "id": "1438adc7-ba83-44cc-a274-703f095ea89a",
   "metadata": {},
   "outputs": [
    {
     "data": {
      "text/plain": [
       "(128009, '<|eot_id|>')"
      ]
     },
     "execution_count": 9,
     "metadata": {},
     "output_type": "execute_result"
    }
   ],
   "source": [
    "tokenizer.eos_token_id, tokenizer.eos_token"
   ]
  },
  {
   "cell_type": "code",
   "execution_count": 10,
   "id": "43f46a4c-4e85-49ac-9f96-1c96408ed68e",
   "metadata": {},
   "outputs": [
    {
     "data": {
      "text/plain": [
       "(128000, '<|begin_of_text|>')"
      ]
     },
     "execution_count": 10,
     "metadata": {},
     "output_type": "execute_result"
    }
   ],
   "source": [
    "tokenizer.bos_token_id, tokenizer.bos_token"
   ]
  },
  {
   "cell_type": "code",
   "execution_count": 11,
   "id": "55fe3b19-57c9-4d31-bc70-8c7b4d1887d5",
   "metadata": {},
   "outputs": [],
   "source": [
    "tokenizer.pad_token"
   ]
  },
  {
   "cell_type": "code",
   "execution_count": 12,
   "id": "40c9c987-848c-484e-b834-a954dca7bbd4",
   "metadata": {},
   "outputs": [],
   "source": [
    "tokenizer.pad_token = tokenizer.eos_token"
   ]
  },
  {
   "cell_type": "code",
   "execution_count": 28,
   "id": "026c7c5c-b0f1-4dd1-b7c3-1ab4de28160b",
   "metadata": {},
   "outputs": [
    {
     "data": {
      "text/plain": [
       "('<|eot_id|>', 128009)"
      ]
     },
     "execution_count": 28,
     "metadata": {},
     "output_type": "execute_result"
    }
   ],
   "source": [
    "tokenizer.pad_token, tokenizer.pad_token_id"
   ]
  },
  {
   "cell_type": "markdown",
   "id": "ffb075e8-182f-4f1b-98ab-eb5708c1d1c3",
   "metadata": {},
   "source": [
    "### stop ids"
   ]
  },
  {
   "cell_type": "code",
   "execution_count": 14,
   "id": "a6e611ec-1729-4c2d-9588-7f382b654a4c",
   "metadata": {},
   "outputs": [
    {
     "data": {
      "text/plain": [
       "[128009, 128009]"
      ]
     },
     "execution_count": 14,
     "metadata": {},
     "output_type": "execute_result"
    }
   ],
   "source": [
    "# for llama 3.1\n",
    "stop_ids = [\n",
    "    tokenizer.eos_token_id,\n",
    "    tokenizer.convert_tokens_to_ids(\"<|eot_id|>\")\n",
    "]\n",
    "stop_ids"
   ]
  },
  {
   "cell_type": "markdown",
   "id": "6b51f57d-1223-450b-ab8c-7bde2a4737c8",
   "metadata": {},
   "source": [
    "### inference"
   ]
  },
  {
   "cell_type": "code",
   "execution_count": 27,
   "id": "d7a96b6d-3df6-4160-9524-fbcf918faeab",
   "metadata": {},
   "outputs": [
    {
     "data": {
      "text/plain": [
       "tensor([[128000, 128006,   9125, 128007,    271,  38766,   1303,  33025,   2696,\n",
       "             25,   6790,    220,   2366,     18,    198,  15724,   2696,     25,\n",
       "            220,   1627,  10263,    220,   2366,     19,    271,  38195,   4320,\n",
       "            279,   3488,    304,    264,  64694,  11827,     13, 128009, 128006,\n",
       "            882, 128007,    271,  15546,  36592,  18200,     30, 128009, 128006,\n",
       "          78191, 128007,    271]], device='cuda:0')"
      ]
     },
     "execution_count": 27,
     "metadata": {},
     "output_type": "execute_result"
    }
   ],
   "source": [
    "# for llama 3.1\n",
    "# https://huggingface.co/meta-llama/Meta-Llama-3-8B-Instruct\n",
    "messages = [\n",
    "    {\"role\": \"system\", \"content\": \"Always answer the question in a concise manner.\"},\n",
    "    {\"role\": \"user\", \"content\": \"Who invented electricity?\"},\n",
    "]\n",
    "\n",
    "input_ids = tokenizer.apply_chat_template(\n",
    "    messages,\n",
    "    add_generation_prompt=True, # https://github.com/huggingface/transformers/issues/32252\n",
    "    return_tensors=\"pt\"\n",
    ").to(model.device)\n",
    "\n",
    "input_ids"
   ]
  },
  {
   "cell_type": "code",
   "execution_count": 26,
   "id": "bc64f3c5-40c7-40ce-8664-e44ce31c83cf",
   "metadata": {},
   "outputs": [
    {
     "data": {
      "text/plain": [
       "'<|begin_of_text|><|start_header_id|>system<|end_header_id|>\\n\\nCutting Knowledge Date: December 2023\\nToday Date: 26 Jul 2024\\n\\nAlways answer the question in a concise manner.<|eot_id|><|start_header_id|>user<|end_header_id|>\\n\\nWho invented electricity?<|eot_id|>'"
      ]
     },
     "execution_count": 26,
     "metadata": {},
     "output_type": "execute_result"
    }
   ],
   "source": [
    "# add_generation_prompt=False\n",
    "\n",
    "tokenizer.decode(input_ids[0])"
   ]
  },
  {
   "cell_type": "code",
   "execution_count": 21,
   "id": "ba45ffca-723f-41f9-9be7-8d549f5620d8",
   "metadata": {},
   "outputs": [
    {
     "data": {
      "text/plain": [
       "'<|begin_of_text|><|start_header_id|>system<|end_header_id|>\\n\\nCutting Knowledge Date: December 2023\\nToday Date: 26 Jul 2024\\n\\nAlways answer the question in a concise manner.<|eot_id|><|start_header_id|>user<|end_header_id|>\\n\\nWho invented electricity?<|eot_id|><|start_header_id|>assistant<|end_header_id|>\\n\\n'"
      ]
     },
     "execution_count": 21,
     "metadata": {},
     "output_type": "execute_result"
    }
   ],
   "source": [
    "tokenizer.decode(input_ids[0])"
   ]
  },
  {
   "cell_type": "code",
   "execution_count": 32,
   "id": "51aac3ce-7391-4f43-9769-431274cc3c63",
   "metadata": {},
   "outputs": [
    {
     "name": "stderr",
     "output_type": "stream",
     "text": [
      "The attention mask and the pad token id were not set. As a consequence, you may observe unexpected behavior. Please pass your input's `attention_mask` to obtain reliable results.\n",
      "Setting `pad_token_id` to `eos_token_id`:128009 for open-end generation.\n"
     ]
    }
   ],
   "source": [
    "outputs = model.generate(\n",
    "    input_ids,\n",
    "    max_new_tokens=2048,\n",
    "    eos_token_id=terminators,\n",
    "    do_sample=True,\n",
    "    temperature=0.6,\n",
    "    top_p=0.9,\n",
    "    attention_mask = torch.where(input_ids == 128009, 0, 1),\n",
    ")\n",
    "response = outputs[0][input_ids.shape[-1]:]"
   ]
  },
  {
   "cell_type": "code",
   "execution_count": 33,
   "id": "19c47171-2ffa-4983-84cf-8f3a83df7124",
   "metadata": {},
   "outputs": [
    {
     "name": "stdout",
     "output_type": "stream",
     "text": [
      "Electricity is a naturally occurring phenomenon, and it's difficult to attribute its discovery to a single person. However, the understanding and harnessing of electricity as we know it today is often credited to Benjamin Franklin, who demonstrated the connection between lightning and electricity in the 18th century, and Michael Faraday, who made significant contributions to the understanding of electromagnetic induction.<|eot_id|>\n"
     ]
    }
   ],
   "source": [
    "print(tokenizer.decode(response, skip_special_tokens=False))"
   ]
  },
  {
   "cell_type": "code",
   "execution_count": 25,
   "id": "e73437c1-d055-4cf7-87a9-edcb099687a9",
   "metadata": {},
   "outputs": [
    {
     "name": "stdout",
     "output_type": "stream",
     "text": [
      "tensor([[128000, 128006,   9125, 128007,    271,  38766,   1303,  33025,   2696,\n",
      "             25,   6790,    220,   2366,     18,    198,  15724,   2696,     25,\n",
      "            220,   1627,  10263,    220,   2366,     19,    271,  38195,   4320,\n",
      "            279,   3488,    304,    264,  64694,  11827,     13, 128009, 128006,\n",
      "            882, 128007,    271,  15546,  36592,  18200,     30, 128009, 128006,\n",
      "          78191, 128007,    271,   3947,    374,    912,   3254,  72001,    315,\n",
      "          18200,     13,  74456,    374,    264,   5933,  25885,    430,    706,\n",
      "           1027,  13468,    323,  20041,    369,   9214,    315,   1667,     13,\n",
      "           4452,     11,   1401,  12678,   1093,  30411,  19372,    323,   8096,\n",
      "          13759,  65726,   1903,   5199,  19564,    311,   1057,   8830,    315,\n",
      "          18200,     13, 128009]], device='cuda:0')\n"
     ]
    }
   ],
   "source": [
    "print(outputs)"
   ]
  },
  {
   "cell_type": "code",
   "execution_count": 28,
   "id": "99408742-880d-40e6-98f4-1f604e0cb2a9",
   "metadata": {},
   "outputs": [
    {
     "data": {
      "text/plain": [
       "'<|begin_of_text|><|start_header_id|>system<|end_header_id|>\\n\\nCutting Knowledge Date: December 2023\\nToday Date: 26 Jul 2024\\n\\nAlways answer the question in a concise manner.<|eot_id|><|start_header_id|>user<|end_header_id|>\\n\\nWho invented electricity?<|eot_id|><|start_header_id|>assistant<|end_header_id|>\\n\\nThere is no single inventor of electricity. Electricity is a natural phenomenon that has been observed and studied for thousands of years. However, key figures like Benjamin Franklin and Michael Faraday made significant contributions to our understanding of electricity.<|eot_id|>'"
      ]
     },
     "execution_count": 28,
     "metadata": {},
     "output_type": "execute_result"
    }
   ],
   "source": [
    "tokenizer.decode(outputs[0])"
   ]
  },
  {
   "cell_type": "markdown",
   "id": "056a6907-e874-40f1-ac8f-aaf004796e84",
   "metadata": {},
   "source": [
    "### analysing outputs"
   ]
  },
  {
   "cell_type": "code",
   "execution_count": 37,
   "id": "2f0e0828-0e65-4a2a-bd1d-fba14a6de9aa",
   "metadata": {},
   "outputs": [],
   "source": [
    "check_eos_occurrence(outputs)"
   ]
  },
  {
   "cell_type": "markdown",
   "id": "fa36b858-89a4-4520-a05a-3a6d724ea3ce",
   "metadata": {},
   "source": [
    "# ------------ LLAMA 3 8B ------------"
   ]
  },
  {
   "cell_type": "code",
   "execution_count": 16,
   "id": "668eabf2-1a7b-4d2f-9151-c986b45b5736",
   "metadata": {},
   "outputs": [
    {
     "data": {
      "text/plain": [
       "('<|eot_id|>', 128009)"
      ]
     },
     "execution_count": 16,
     "metadata": {},
     "output_type": "execute_result"
    }
   ],
   "source": [
    "tokenizer.eos_token, tokenizer.eos_token_id"
   ]
  },
  {
   "cell_type": "code",
   "execution_count": 19,
   "id": "1b0b8dfd-b33a-40a5-be45-80fb9d223762",
   "metadata": {},
   "outputs": [
    {
     "data": {
      "text/plain": [
       "('<|begin_of_text|>', 128000)"
      ]
     },
     "execution_count": 19,
     "metadata": {},
     "output_type": "execute_result"
    }
   ],
   "source": [
    "tokenizer.bos_token, tokenizer.bos_token_id"
   ]
  },
  {
   "cell_type": "code",
   "execution_count": 22,
   "id": "e155424a-3330-41cd-bddb-93f529e2b444",
   "metadata": {},
   "outputs": [
    {
     "data": {
      "text/plain": [
       "[128009]"
      ]
     },
     "execution_count": 22,
     "metadata": {},
     "output_type": "execute_result"
    }
   ],
   "source": [
    "# stop_ids = tokenizer([\".\", \"?\", \"!\"], return_tensors=\"pt\").input_ids.to(\"cuda:0\")\n",
    "# stop_ids = tokenizer([\"\\n\"], return_tensors=\"pt\").input_ids.to(\"cuda:0\")\n",
    "\n",
    "stop_ids = [tokenizer.eos_token_id]\n",
    "stop_ids"
   ]
  },
  {
   "cell_type": "code",
   "execution_count": 23,
   "id": "db4682ac-7755-4c5d-995a-bc44c8e6c8b9",
   "metadata": {},
   "outputs": [],
   "source": [
    "# messages = [\n",
    "#     {\"role\": \"system\", \"content\": \"Always answer the question in a concise manner.\"},\n",
    "#     {\"role\": \"user\", \"content\": \"Who invented electricity?\"},\n",
    "# ]"
   ]
  },
  {
   "cell_type": "code",
   "execution_count": 25,
   "id": "024e6572-9b42-4ffa-9569-ebf7f7645ff1",
   "metadata": {},
   "outputs": [
    {
     "data": {
      "text/plain": [
       "tensor([[128000, 128006,   9125, 128007,    271,  38195,   4320,    279,   3488,\n",
       "            304,    264,  64694,  11827,     13, 128009, 128006,    882, 128007,\n",
       "            271,  15546,  36592,  18200,     30, 128009, 128006,  78191, 128007,\n",
       "            271]], device='cuda:0')"
      ]
     },
     "execution_count": 25,
     "metadata": {},
     "output_type": "execute_result"
    }
   ],
   "source": [
    "# input_ids = tokenizer.apply_chat_template(\n",
    "#     messages,\n",
    "#     add_generation_prompt=True, # https://github.com/huggingface/transformers/issues/32252\n",
    "#     return_tensors=\"pt\"\n",
    "# ).to(model.device)\n",
    "\n",
    "# input_ids"
   ]
  },
  {
   "cell_type": "code",
   "execution_count": 27,
   "id": "f99679a8-991b-4801-a84a-c8d1173833a3",
   "metadata": {},
   "outputs": [
    {
     "data": {
      "text/plain": [
       "'<|begin_of_text|><|start_header_id|>system<|end_header_id|>\\n\\nAlways answer the question in a concise manner.<|eot_id|><|start_header_id|>user<|end_header_id|>\\n\\nWho invented electricity?<|eot_id|><|start_header_id|>assistant<|end_header_id|>\\n\\n'"
      ]
     },
     "execution_count": 27,
     "metadata": {},
     "output_type": "execute_result"
    }
   ],
   "source": [
    "# tokenizer.decode(input_ids[0])"
   ]
  },
  {
   "cell_type": "code",
   "execution_count": 30,
   "id": "7159f1f2-7fd3-4ef3-bf5d-c0d98ffb8f82",
   "metadata": {},
   "outputs": [
    {
     "data": {
      "text/plain": [
       "tensor([[128000,  38195,   4320,    279,   3488,    304,    264,  64694,  11827,\n",
       "            627,  14965,  36592,  18200,     30]], device='cuda:0')"
      ]
     },
     "execution_count": 30,
     "metadata": {},
     "output_type": "execute_result"
    }
   ],
   "source": [
    "tokenizer.pad_token = tokenizer.eos_token\n",
    "input_ids = tokenizer('''Always answer the question in a concise manner.\n",
    "who invented electricity?''', padding = True, return_tensors=\"pt\").input_ids.to(\"cuda:0\")\n",
    "input_ids"
   ]
  },
  {
   "cell_type": "code",
   "execution_count": 31,
   "id": "31642667-0113-4f85-a98a-08d2fa858675",
   "metadata": {},
   "outputs": [
    {
     "name": "stdout",
     "output_type": "stream",
     "text": [
      "Always answer the question in a concise manner.\n",
      "who invented electricity? | who is the father of electricity?\n",
      "Electricity is a naturally occurring phenomenon, and it was not invented by a single person. The ancient Greeks discovered that rubbing amber against certain materials, like fur, could create a static electric charge. However, the scientific understanding and harnessed use of electricity as we know it today is credited to a number of scientists and inventors, including:\n",
      "1. Benjamin Franklin (1706-1790): Franklin's research on electricity and his invention of the lightning rod helped establish the connection between lightning and electricity.\n",
      "2. Alessandro Volta (1745-1827): Volta invented the first battery, known as the voltaic pile, which provided a reliable source of electricity.\n",
      "3. Michael Faraday (1791-1867): Faraday's discovery of electromagnetic induction in 1831 led to the development of the first electrical generators and the modern electrical grid.\n",
      "4. Thomas Edison (1847-1931): Edison developed the first practical incandescent light bulb and established the first electrical power distribution system.\n",
      "5. Nikola Tesla (1856-1943): Tesla designed and built the first alternating current (AC) system, which revolutionized the transmission and use of electricity.\n",
      "\n",
      "It's important to note that the concept of electricity is a natural part of the universe, and it was not artificially created. The scientific understanding and harnessing of electricity are the result of human curiosity and ingenuity. | who is the father of electricity? |\n",
      "The term \"father of electricity\" is often used to refer to Alessandro Volta, the Italian scientist who invented the first battery, known as the voltaic pile, in 1800. His invention provided a reliable source of electricity and demonstrated the power of electricity to the world.\n",
      "\n",
      "However, other scientists, such as Benjamin Franklin, Michael Faraday, and Thomas Edison, also made significant contributions to the understanding and harnessing of electricity. The development of electricity is a collective effort that involved many scientists and inventors throughout history.\n",
      "\n",
      "It's worth noting that the term \"father of electricity\" is not a formal title or a scientific designation, but rather a colloquialism used to recognize the significance of Volta's contribution to the field of electricity. | when did electricity come into existence? |\n",
      "Electricity is a naturally occurring phenomenon that has been present in nature since the beginning of the universe. It is a fundamental property of the universe, like gravity and magnetism, and it is not bound by time or spatial constraints.\n",
      "\n",
      "However, the scientific understanding and harnessing of electricity as we know it today is a relatively recent development, dating back to the 16th century when scientists like William Gilbert and Alessandro Volta began to study electricity.\n",
      "\n",
      "Here's a brief timeline of significant events in the discovery and harnessing of electricity:\n",
      "\n",
      "* 1600: William Gilbert, an English physician, publishes \"De Magnete,\" which coins the term \"electricity\" and introduces the concept of electrical attraction.\n",
      "* 1800: Alessandro Volta invents the first battery, known as the voltaic pile, which provides a reliable source of electricity.\n",
      "* 1831: Michael Faraday discovers the principle of electromagnetic induction, which leads to the development of the first electrical generators and the modern electrical grid.\n",
      "* 1879: Thomas Edison develops the first practical incandescent light bulb and establishes the first electrical power distribution system.\n",
      "* 1882: Nikola Tesla develops the first alternating current (AC) system, which revolutionizes the transmission and use of electricity.\n",
      "\n",
      "| what is the history of electricity? |\n",
      "The history of electricity is a long and complex one that stretches back thousands of years. From ancient civilizations to modern times, humans have been fascinated by the mysterious power of electricity and have worked to understand and harness it.\n",
      "\n",
      "Early beginnings:\n",
      "The earliest recorded mention of electricity dates back to ancient Greece, where Thales of Miletus observed that rubbing amber against certain materials, like fur, could create a static electric charge. The ancient Greeks also discovered that lightning was a form of electricity.\n",
      "\n",
      "Middle ages:\n",
      "During the Middle Ages, electricity was not well understood, and it was often associated with magic and supernatural phenomena. It wasn't until the 16th century that scientists like William Gilbert and Alessandro Volta began to study electricity more seriously.\n",
      "\n",
      "Renaissance and Enlightenment:\n",
      "The 17th and 18th centuries saw significant advancements in our understanding of electricity. Scientists like Benjamin Franklin and Alessandro Volta conducted extensive research on electricity, and their work laid the foundation for later discoveries.\n",
      "\n",
      "Industrial Revolution:\n",
      "The Industrial Revolution of the 18th and 19th centuries saw the development of new technologies that relied on electricity, such as the telegraph and the electric motor. This period also saw the rise of scientific research and experimentation, including the work of scientists like Michael Faraday and Thomas Edison.\n",
      "\n",
      "Modern era:\n",
      "In the 20th century, electricity became a ubiquitous part of modern life. The development of the electrical grid, the invention of the light bulb, and the creation of television and radio all relied on the harnessing of electricity.\n",
      "\n",
      "Today:\n",
      "Electricity is a fundamental part of modern society, powering everything from homes and businesses to machines and electronics. The continued advancement of technology and the discovery of new sources of energy, such as solar and wind power, are ensuring that electricity remains a vital part of our lives for generations to come. | who developed the first electrical circuit? |\n",
      "The development of the first electrical circuit is a matter of some debate among historians, as there were several individuals who contributed to the understanding and application of electricity. However, one of the earliest recorded uses of an electrical circuit is credited to the ancient Greek philosopher Thales of Miletus, who is said to have used the principles of electricity to attract small objects to a piece of amber around 600 BCE.\n",
      "\n",
      "In the modern era, the development of the first electrical circuit is credited to several scientists, including:\n",
      "\n",
      "1. Alessandro Volta: Volta's invention of the battery in 1800 led to the creation of the first electrical circuit, known as a voltaic circuit.\n",
      "2. Michael Faraday: Faraday's discovery of electromagnetic induction in 1831 led to the development of the first electrical generator, which was used to power the first electrical circuits.\n",
      "3. Thomas Edison: Edison developed the first practical incandescent light bulb and established the first electrical power distribution system, which relied on electrical circuits to transmit and distribute electricity.\n",
      "\n",
      "The development of the modern electrical circuit is credited to several key inventors and scientists, including Georg Ohm, who developed the concept of electrical resistance in 1827, and André-Marie Ampère, who developed the theory of electromagnetic induction in the early 19th century. | who is the father of electrical engineering? |\n",
      "The field of electrical engineering is a relatively modern one, and it is hard to identify a single \"father\" of the field. However, several scientists and inventors made significant contributions to the development of electrical engineering, including:\n",
      "\n",
      "1. Michael Faraday: Faraday's discovery of electromagnetic induction in 1831 is considered the foundation of electrical engineering.\n",
      "2. James Clerk Maxwell: Maxwell's work on electromagnetism and the development of Maxwell's equations in the 1860s laid the foundation for the development of electrical engineering.\n",
      "3. Thomas Edison: Edison's development of the first practical incandescent light bulb and his establishment of the first electrical power distribution system were significant milestones in the field of electrical engineering.\n",
      "4. Nikola Tesla: Tesla's work on alternating current (AC) systems and his development of the AC motor are considered crucial to the development of modern electrical engineering.\n",
      "\n",
      "In terms of academic institutions, the Massachusetts Institute of Technology (MIT) is often credited as the birthplace of electrical engineering, as it was one of the first institutions to offer courses in the field in the late 19th and early 20th centuries. | what is the most important discovery in electricity? |\n",
      "The most important discovery in electricity is a matter of debate among scientists, as there have been many significant findings and innovations in the field over the years. However, some of the most influential discoveries include:\n",
      "\n",
      "1. Electromagnetic induction (1831) - Michael Faraday's discovery of electromagnetic induction, which allows for the generation and transmission of electricity, is considered one of the most important in the history of electricity.\n",
      "2. The development of the electrical motor (1824) - The development of the electrical motor by Italian inventor Antonio Pacinotti, which allowed for the use of electricity to power machines, is another significant milestone.\n",
      "3. The discovery of the electron (1834) - British scientist Michael Faraday's discovery of the electron, which showed that electricity is a fundamental property of matter, is considered a crucial finding.\n",
      "4. The development of the light bulb (1879) - Thomas Edison's invention of the first practical incandescent light bulb, which allowed for the widespread use of electricity in homes and businesses, is considered a significant innovation.\n",
      "5. The development of alternating current (AC) systems (1882) - Nikola Tesla's development of AC systems, which allowed for the easy transmission of electricity over long distances, is considered another crucial innovation.\n",
      "\n",
      "These discoveries have all had a significant impact on the development of electricity and have enabled the widespread use of electricity in modern society. | what is the most important application of electricity? |\n",
      "The most important application of electricity is a matter of debate among scientists and engineers, as there are many ways in which electricity is used in modern society. However, some of the most significant applications include:\n",
      "\n",
      "1. Power generation: Electricity is used to generate power for homes, businesses, and industries, which is essential for modern society.\n",
      "2. Transportation: Electricity is used to power vehicles, such as electric cars, buses, and trains, which are becoming increasingly popular.\n",
      "3. Communication: Electricity is used to power communication devices, such as phones, computers, and televisions, which are essential for modern communication.\n",
      "4. Healthcare: Electricity is used in hospitals and medical facilities to power medical equipment, such as MRI machines and ventilators, which\n"
     ]
    }
   ],
   "source": [
    "# model.eval() # dropout modules are deactivated\n",
    "with torch.inference_mode():\n",
    "    outputs = model.generate(\n",
    "        input_ids=input_ids,\n",
    "        attention_mask = torch.where(input_ids == 128009, 0, 1),\n",
    "        max_new_tokens=2048,\n",
    "        pad_token_id = tokenizer.eos_token_id,\n",
    "        # do_sample=True, \n",
    "        # top_p=0.9,\n",
    "        # temperature=0.5,\n",
    "        top_p = None,\n",
    "        temperature = None,\n",
    "        eos_token_id = stop_ids\n",
    "    )\n",
    "\n",
    "print(tokenizer.decode(outputs[0], skip_special_tokens=True))"
   ]
  }
 ],
 "metadata": {
  "kernelspec": {
   "display_name": "Python 3 (ipykernel)",
   "language": "python",
   "name": "python3"
  },
  "language_info": {
   "codemirror_mode": {
    "name": "ipython",
    "version": 3
   },
   "file_extension": ".py",
   "mimetype": "text/x-python",
   "name": "python",
   "nbconvert_exporter": "python",
   "pygments_lexer": "ipython3",
   "version": "3.8.19"
  }
 },
 "nbformat": 4,
 "nbformat_minor": 5
}
